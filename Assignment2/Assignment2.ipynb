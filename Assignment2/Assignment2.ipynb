{
 "cells": [
  {
   "cell_type": "markdown",
   "metadata": {},
   "source": [
    "The following exercise is from <u> Computational Physics </u> by Mark Newman"
   ]
  },
  {
   "cell_type": "markdown",
   "metadata": {},
   "source": [
    "### Exercise 2.6: Planetary Orbits"
   ]
  },
  {
   "cell_type": "markdown",
   "metadata": {},
   "source": [
    "The orbit in space of one body around another, such as planets around the Sun, need not be circular. In general it takes the form of an ellipse, with the body sometimes closer in and sometimes further out. If you are given the distance $l_1$ of the closest approach that a planet makes to the Sun, also called <i>perihelion</i>, and its linear velocity $v_1$ at perihelion, then any other property of the orbit can be calculated from these two as follows."
   ]
  },
  {
   "cell_type": "markdown",
   "metadata": {},
   "source": [
    "<b>a)</b> Kepler's second law tells us that the distance $l_2$ and velocity $v_2$ of the planet at its most distant point, or <i>aphelion</i>, satisfies $l_2v_2 = l_1v_1$. At the same time the total energy, kinetic plus gravitational, of a planet with velocity $v$ and distance $r$ from the Sun is given by:\n",
    "$$ E = \\frac{1}{2} m v^{2} - G \\frac{mM}{r}$$\n",
    "where $m$ is the planet's mass, $M = 1.9891 \\times 10^{30}\\ kg$ is the mass of the Sun, and $G = 6.6738 \\times 10^{-11}\\ m^3kg^{-1}s^{-2}$ is Newton's gravitational constant. \n",
    "\n",
    "Given that energy must be conserved, $v_2$ is the smaller root of the quadratic equation:\n",
    "\n",
    "$$v_2^2 - \\frac{2GM}{v_1 l_1}v_2 - \\left[v_1^2 - \\frac{2GM}{l_1}\\right] = 0 $$"
   ]
  },
  {
   "cell_type": "markdown",
   "metadata": {},
   "source": [
    "Once we solve for $v_2$ we can calculate $l_2$ using the relation $l_2 = l_1 v_1 / v_2$."
   ]
  },
  {
   "cell_type": "code",
   "execution_count": 37,
   "metadata": {},
   "outputs": [
    {
     "name": "stdout",
     "output_type": "stream",
     "text": [
      "v_2 = (2*G*M) / (v_1*l_1) - v_1\n"
     ]
    }
   ],
   "source": [
    "# TO DO: By hand, solve for v_2 using quadratic equation above (note: if you do it right, it reduced very nicely)\n",
    "print(\"v_2 = (2*G*M) / (v_1*l_1) - v_1\")\n",
    "# BONUS CHALLENGE: Can you write the equation for v_2 using LaTex? \n",
    "\n",
    "# To format an equation using Latex, make sure you're in a Markdown cell. \n",
    "# Wrap everything you want formatted in dollar signs, for example: $ y = ax + b $\n",
    "# Reference my equations above to see how it works! \n",
    "# (Also Google is your best friend when it comes to LaTex)"
   ]
  },
  {
   "cell_type": "markdown",
   "metadata": {},
   "source": [
    "$$v_2 = \\frac{2GM}{v_1 l_1} - v_1 $$"
   ]
  },
  {
   "cell_type": "markdown",
   "metadata": {},
   "source": [
    "<b>b)</b> Given the value of $v_1$, $l_1$, and $l_2$, other paramters of the orbit are given by simple formulas that can be derived from Kepler's laws and the fact that the orbit is an ellipse:\n",
    "\n",
    "\n",
    "Semi-major axis: $a = \\frac{1}{2} (l_1 + l_2) $\n",
    "\n",
    "Semi-minor axis: $ b = \\sqrt{l_1 l_2} $\n",
    "\n",
    "Orbital period: $ T = \\frac{2\\pi a b}{l_1 v_1} $\n",
    "\n",
    "Orbital eccentricity: $e = \\frac{l_2 - l_1}{l_2 + l_1} $"
   ]
  },
  {
   "cell_type": "markdown",
   "metadata": {},
   "source": [
    "Write a function that takes the distance to the Sun and the velocity at perihelion, then calculates and print the quantities $l_2$, $v_2$, $T$ and $e$."
   ]
  },
  {
   "cell_type": "code",
   "execution_count": 38,
   "metadata": {},
   "outputs": [],
   "source": [
    "# TO DO: Write a function that takes v_1, l_1, G, and M as parameters, and calculates l_2, v_2, T, and e.\n",
    "# MAKE SURE YOU COMMENT YOUR CODE\n",
    "import math\n",
    "\n",
    "def orbit_properties(v_1, l_1, G = 6.6738e-11, M = 1.9891e30):\n",
    "    '''\n",
    "    Uses Kepler's laws to determine certain properties of an orbit around the Sun\n",
    "    Prints these quantites\n",
    "    Parameters:\n",
    "        v_1 (float) - linear velocity when body is closest to the Sun (perihelion); units are meters per second (m/s)\n",
    "        l_1 (float) - distance from the Sun when body is at perihelion; units are meters (m)\n",
    "        G (float) - Newton's gravitational constant; defaults to 6.6738e−11 m^3/kg*s^2\n",
    "        M (float) - mass of the Sun; defaults to 1.9891e30 kg\n",
    "    Returns:\n",
    "        l_2 (float) - distance of body from the Sun at furthest point (aphelion); units are meters (m)\n",
    "        v_2 (float) - velocity at aphelion; units are meters per second (m/s)\n",
    "        T (float) - orbital period; units are seconds (s)\n",
    "        e (float) - orbital eccentricity; no units\n",
    "    '''\n",
    "    # use equation determined in part a\n",
    "    v_2 = ((2*G*M) / (v_1*l_1)) - v_1\n",
    "    \n",
    "    # use equations given in part b\n",
    "    l_2 = (l_1*v_1) / v_2\n",
    "    a = (1/2)*(l_1 + l_2)\n",
    "    b = math.sqrt(l_1*l_2)\n",
    "    T = (2*math.pi*a*b) / (l_1*v_1)\n",
    "    e = (l_2 - l_1) / (l_2 + l_1)\n",
    "    \n",
    "    print(\"l_2 (in m): \" + str(l_2) + \\\n",
    "         \"\\nv_2 (in m/s): \" + str(v_2) + \\\n",
    "         \"\\nT (in s): \" + str(T) + \\\n",
    "          # print in years for easier comprehension\n",
    "         \"\\nT (in yrs): \" + str(T/60/60/24/365) + \\\n",
    "         \"\\ne: \" + str(e))\n",
    "    \n",
    "    return l_2, v_2, T, e"
   ]
  },
  {
   "cell_type": "markdown",
   "metadata": {},
   "source": [
    "<b> c) </b> Test your program by having it calculate the properties of the orbits of the Earth (for which $l_1 = 1.4710 \\times 10^{11} m$ and $v_1 = 3.0287 \\times 10^4 ms^{-1}$)\n",
    "\n",
    "(You should find the orbital period of the Earth is one year)"
   ]
  },
  {
   "cell_type": "code",
   "execution_count": 39,
   "metadata": {
    "scrolled": true
   },
   "outputs": [
    {
     "name": "stdout",
     "output_type": "stream",
     "text": [
      "l_2 (in m): 152027197208.65976\n",
      "v_2 (in m/s): 29305.399177261308\n",
      "T (in s): 31543060.207886893\n",
      "T (in yrs): 1.0002238777234553\n",
      "e: 0.016471913134741584\n"
     ]
    },
    {
     "data": {
      "text/plain": [
       "(152027197208.65976,\n",
       " 29305.399177261308,\n",
       " 31543060.207886893,\n",
       " 0.016471913134741584)"
      ]
     },
     "execution_count": 39,
     "metadata": {},
     "output_type": "execute_result"
    }
   ],
   "source": [
    "# TO DO: Calculate the properties of Earth's orbit\n",
    "# MAKE SURE YOU COMMENT YOUR CODE\n",
    "orbit_properties(3.0287e4, 1.4710e11) # enter known properties for Earth's orbit and use default G and M"
   ]
  },
  {
   "cell_type": "markdown",
   "metadata": {},
   "source": [
    "<b> d) </b> Test your program by having it calculate the properties of the orbit of Halley's comet ($l_1 = 8.7830 \\times 10^{10} m$ and $v_1 = 5.4529 \\times 10^4 ms^{-1}$). \n",
    "\n",
    "What is the orbital period of Halley's comet?"
   ]
  },
  {
   "cell_type": "code",
   "execution_count": 40,
   "metadata": {},
   "outputs": [
    {
     "name": "stdout",
     "output_type": "stream",
     "text": [
      "l_2 (in m): 5282214660876.42\n",
      "v_2 (in m/s): 906.680696919153\n",
      "T (in s): 2399312511.845174\n",
      "T (in yrs): 76.08170065465418\n",
      "e: 0.967288912645406\n",
      "The orbital period of Halley's comet is around 76 years.\n"
     ]
    }
   ],
   "source": [
    "# TO DO: Calculate the properties of Halley's comet's orbit\n",
    "# MAKE SURE YOU COMMENT YOUR CODE\n",
    "orbit_properties(5.4529e4, 8.7830e10) # enter known properties for Halley's comet's orbit and use default G and M\n",
    "print(\"The orbital period of Halley's comet is around 76 years.\")"
   ]
  }
 ],
 "metadata": {
  "kernelspec": {
   "display_name": "Python 3",
   "language": "python",
   "name": "python3"
  },
  "language_info": {
   "codemirror_mode": {
    "name": "ipython",
    "version": 3
   },
   "file_extension": ".py",
   "mimetype": "text/x-python",
   "name": "python",
   "nbconvert_exporter": "python",
   "pygments_lexer": "ipython3",
   "version": "3.8.8"
  }
 },
 "nbformat": 4,
 "nbformat_minor": 2
}
